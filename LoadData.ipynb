{
 "cells": [
  {
   "cell_type": "code",
   "execution_count": null,
   "id": "b5b78382",
   "metadata": {},
   "outputs": [],
   "source": [
    "import numpy as np\n",
    "import matplotlib\n",
    "import pathlib\n",
    "import mne\n",
    "\n",
    "matplotlib.use('Qt5Agg')"
   ]
  }
 ],
 "metadata": {
  "language_info": {
   "name": "python"
  }
 },
 "nbformat": 4,
 "nbformat_minor": 5
}

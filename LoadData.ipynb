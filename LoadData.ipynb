{
 "cells": [
  {
   "cell_type": "code",
   "execution_count": 10,
   "id": "b5b78382",
   "metadata": {},
   "outputs": [],
   "source": [
    "import numpy as np\n",
    "import matplotlib\n",
    "from pathlib import Path\n",
    "import mne\n",
    "\n",
    "matplotlib.use('Qt5Agg')"
   ]
  },
  {
   "cell_type": "markdown",
   "id": "3de3b5ff",
   "metadata": {},
   "source": [
    "This code was using sample data. The uncommented code is using alzheimer data downloaded from this source : \"https://openneuro.org/datasets/ds004504/versions/1.0.8/download\""
   ]
  },
  {
   "cell_type": "code",
   "execution_count": null,
   "id": "3ab9d3fa",
   "metadata": {},
   "outputs": [
    {
     "name": "stdout",
     "output_type": "stream",
     "text": [
      "Opening raw data file C:\\Users\\hyuns\\mne_data\\MNE-sample-data\\MEG\\sample\\sample_audvis_raw.fif...\n",
      "    Read a total of 3 projection items:\n",
      "        PCA-v1 (1 x 102)  idle\n",
      "        PCA-v2 (1 x 102)  idle\n",
      "        PCA-v3 (1 x 102)  idle\n",
      "    Range : 25800 ... 192599 =     42.956 ...   320.670 secs\n",
      "Ready.\n",
      "Using qt as 2D backend.\n"
     ]
    }
   ],
   "source": [
    "r\"\"\"sample_data_folder = mne.datasets.sample.data_path()\n",
    "sample_data_raw_file = (\n",
    "    sample_data_folder / \"MEG\" / \"sample\" / \"sample_audvis_raw.fif\")\n",
    "raw = mne.io.read_raw(sample_data_raw_file)\n",
    "raw.plot(block=True)  #THIS WORKED!!!\"\""
   ]
  },
  {
   "cell_type": "code",
   "execution_count": 17,
   "id": "607679ec",
   "metadata": {},
   "outputs": [],
   "source": [
    "mne_folder = Path.cwd()\n"
   ]
  },
  {
   "cell_type": "code",
   "execution_count": 20,
   "id": "d98e39ca",
   "metadata": {},
   "outputs": [
    {
     "data": {
      "text/plain": [
       "WindowsPath('c:/Users/hyuns/Python/MNE/Alz Data/derivatives/sub-001/eeg/sub-001_task-eyesclosed_eeg.set')"
      ]
     },
     "execution_count": 20,
     "metadata": {},
     "output_type": "execute_result"
    }
   ],
   "source": [
    "alz_file = mne_folder / \"Alz Data\" / \"derivatives\" / \"sub-001\" / \"eeg\" / \"sub-001_task-eyesclosed_eeg.set\"\n",
    "alz_file"
   ]
  },
  {
   "cell_type": "code",
   "execution_count": 23,
   "id": "c758494f",
   "metadata": {},
   "outputs": [
    {
     "name": "stderr",
     "output_type": "stream",
     "text": [
      "C:\\Users\\hyuns\\AppData\\Local\\Temp\\ipykernel_23900\\3324783888.py:1: RuntimeWarning: Data will be preloaded. preload=False or a string preload is not supported when the data is stored in the .set file\n",
      "  raw_alz_sub1 = mne.io.read_raw_eeglab(alz_file)\n"
     ]
    },
    {
     "name": "stdout",
     "output_type": "stream",
     "text": [
      "Using qt as 2D backend.\n"
     ]
    },
    {
     "data": {
      "text/plain": [
       "<mne_qt_browser._pg_figure.MNEQtBrowser(0x1fedb6d39b0) at 0x000001FEDA5B94C0>"
      ]
     },
     "execution_count": 23,
     "metadata": {},
     "output_type": "execute_result"
    }
   ],
   "source": [
    "raw_alz_sub1 = mne.io.read_raw_eeglab(alz_file)\n",
    "mne.viz.plot_raw(raw_alz_sub1)"
   ]
  }
 ],
 "metadata": {
  "kernelspec": {
   "display_name": "Python 3",
   "language": "python",
   "name": "python3"
  },
  "language_info": {
   "codemirror_mode": {
    "name": "ipython",
    "version": 3
   },
   "file_extension": ".py",
   "mimetype": "text/x-python",
   "name": "python",
   "nbconvert_exporter": "python",
   "pygments_lexer": "ipython3",
   "version": "3.12.7"
  }
 },
 "nbformat": 4,
 "nbformat_minor": 5
}
